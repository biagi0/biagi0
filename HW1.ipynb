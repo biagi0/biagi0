{
  "nbformat": 4,
  "nbformat_minor": 0,
  "metadata": {
    "colab": {
      "provenance": [],
      "include_colab_link": true
    },
    "kernelspec": {
      "name": "python3",
      "display_name": "Python 3"
    },
    "language_info": {
      "name": "python"
    }
  },
  "cells": [
    {
      "cell_type": "markdown",
      "metadata": {
        "id": "view-in-github",
        "colab_type": "text"
      },
      "source": [
        "<a href=\"https://colab.research.google.com/github/biagi0/biagi0/blob/MSBA/HW1.ipynb\" target=\"_parent\"><img src=\"https://colab.research.google.com/assets/colab-badge.svg\" alt=\"Open In Colab\"/></a>"
      ]
    },
    {
      "cell_type": "markdown",
      "source": [
        "#HW 1\n",
        "\n",
        "###Due: 11:59 PM CT, September 13\n",
        "### Total points: 75\n",
        "\n",
        "\n",
        "\n"
      ],
      "metadata": {
        "id": "voAS4e-XbWaH"
      }
    },
    {
      "cell_type": "markdown",
      "source": [
        "\n",
        "Your homework should be written in a Python notebook and then exported to a PDF. You may work in groups of two if you wish. Only one student per team needs to submit the assignment on Gradescope. But be sure to include name and UT EID for both students.\n",
        "\n",
        "Also, please make sure your code runs and the graphics (and anything else) are displayed in your notebook and PDF before submitting. (%matplotlib inline)"
      ],
      "metadata": {
        "id": "-1QeRVC6S-X2"
      }
    },
    {
      "cell_type": "markdown",
      "source": [
        "# Question 1: AWS SageMaker (10 pts):\n",
        "\n",
        "Read the article titled [\"10 reasons why Amazon SageMaker is great for machine learning\"](https://www.softwebsolutions.com/resources/benefits-of-amazon-sagemaker.html) on Amazon SageMaker and answer the following questions:\n",
        "1. In two paragraphs and in your own words, highlight some key benefits that a platform like Amazon SageMaker offers for the development of a machine learning (ML) application. (5 pts)\n",
        "2. Use a large language model (LLM) of your choice to generate an alternative response to the above question. Be sure to include the name of the LLM used and the specific (sequence of) prompt(s) you provided. (3 pts)\n",
        "3. Compare your explanation with the output from the LLM, and summarize your observations regarding the differences between the two answers. (2 pts)"
      ],
      "metadata": {
        "id": "zgjs2Ihh45XY"
      }
    },
    {
      "cell_type": "markdown",
      "source": [
        "# Answer"
      ],
      "metadata": {
        "id": "nxgIA5Nk712Z"
      }
    },
    {
      "cell_type": "markdown",
      "source": [
        "# Question 2: Google Flu Trends (10 pts)\n",
        "\n",
        "The article \"The Parable of Google Flu:\n",
        "Traps in Big Data Analysis\" (kept in Canvas --> Modules --> Resources) describes a high-profile (and embarrassingly failed) project done by Google, highlighting the phenomena of data drift and the importance of transparency, among other key issues that an ML project can face.\n",
        "\n",
        "Read this article and answer the following questions\n",
        "\n",
        "(i) Briefly describe two important causes of \"data drift\" in the flu prediction problem that are mentioned in the article (5 pts)\n",
        "\n",
        "(ii) The last section highlights the importance of transparency. Express in your words, why is transparency important for building data science and AI projects? (You can check this article as a helpful reference: https://hbr.org/2022/06/building-transparency-into-ai-projects or you can look for other sources and cite them in your answer) (5 pts)\n"
      ],
      "metadata": {
        "id": "IkVxrWs0o0tn"
      }
    },
    {
      "cell_type": "markdown",
      "source": [
        "# Answer"
      ],
      "metadata": {
        "id": "YN36ga3B74os"
      }
    },
    {
      "cell_type": "markdown",
      "source": [
        "# Question 3: Maximum Likelihood Estimate (10 pts)\n",
        "\n",
        "Consider the following probability density function (pdf) of a random variable $X$ that takes value $x\\in[0,∞)$\n",
        "\n",
        "$$\n",
        "f(x;b) = \\frac{x}{K b^2}\\exp(-\\frac{x}{b})\n",
        "$$\n",
        "\n",
        "where $b$ is the parameter of the density function, and K is a suitable normalizing constant. The (unscaled) pdfs with $b = 0.1, 0.5, 1$ are plotted below to help you visualize how this family of pdfs looks like.\n",
        "\n",
        "Suppose we observe 6 values obtained by sampling i.i.d. from the  pdf described above:\n",
        "$$\n",
        "\\{x_1,x_2,x_3,x_4,x_5,x_6\\} =\\{0.1, 0.5, 1, 0.4, 2, 1.4\\}\n",
        "$$\n",
        "\n",
        "Answer the following questions:\n",
        "1. What is the log-likelihood of observing a set of 6 samples drawn i.i.d from the pdf mentioned above (give an algebraic expression that is valid for any set of 6 samples)? (5 points)\n",
        "2. What is the maximum likelihood estimate for the parameter $b$? (5 points)"
      ],
      "metadata": {
        "id": "1poJrUBGUAj5"
      }
    },
    {
      "cell_type": "code",
      "source": [
        "import numpy as np\n",
        "import matplotlib.pyplot as plt\n",
        "\n",
        "def pdf(x, b):\n",
        "    return (x / (b**2)) * np.exp(-x / b) # K = 1\n",
        "\n",
        "b_values = [0.1, 0.5, 1]\n",
        "\n",
        "x = np.linspace(0, 5, 500)\n",
        "\n",
        "plt.figure(figsize=(5, 3))\n",
        "for b in b_values:\n",
        "    plt.plot(x, pdf(x, b), label=f'b = {b}')\n",
        "\n",
        "plt.xlabel('x')\n",
        "plt.ylabel('f(x; b)')\n",
        "plt.legend()\n",
        "plt.grid(True)\n",
        "plt.show()"
      ],
      "metadata": {
        "colab": {
          "base_uri": "https://localhost:8080/",
          "height": 311
        },
        "id": "ni04lTarfVZ8",
        "outputId": "a0943e14-6d5d-4557-cac0-a3179e9261b5"
      },
      "execution_count": null,
      "outputs": [
        {
          "output_type": "display_data",
          "data": {
            "text/plain": [
              "<Figure size 500x300 with 1 Axes>"
            ],
            "image/png": "[encoded data removed]"
          },
          "metadata": {}
        }
      ]
    },
    {
      "cell_type": "markdown",
      "source": [
        "# Answer\n"
      ],
      "metadata": {
        "id": "hZQdrUSlUAkB"
      }
    },
    {
      "cell_type": "markdown",
      "source": [
        "# Question 4: Linear Regression (10 pts)\n",
        "\n",
        "1. What is the difference between R-square and adjusted R square and why is it desirable to use the adjusted value? (4 pts)\n",
        "\n",
        "2. Overfitting usually happens in complex models. Linear Regression is a fairly simple model. Could overfitting happen in Linear Regression? If so, please explain the scenario in which it could happen and how we can tackle it. (6 pts)\n",
        "\n"
      ],
      "metadata": {
        "id": "nTWFVcvwXP4w"
      }
    },
    {
      "cell_type": "markdown",
      "source": [
        "# Answer"
      ],
      "metadata": {
        "id": "QUvgd4W6iIeE"
      }
    },
    {
      "cell_type": "markdown",
      "metadata": {
        "id": "riVpksNz_Sq6"
      },
      "source": [
        "# Question 5: Ridge/ Lasso Regression (35 pts)\n",
        "\n",
        "This is a programming question. Please read through each subpart of this question carefully. You are required to add lines of code as specified in the code cells. Please carefully read through the comments in the code cells to identify what code is to be written, where it is to be written and how many lines of code are required. Code is to be added between the **## START CODE** ## and **## END CODE ##** comments and in place of the keyword **None**. In certain cases, the number of lines of code that are to be written will be specified. For example, **## START CODE ## (1 line of code)** specifies that only 1 line of code is to be added between the ## START CODE ## and ## END CODE ## comments. In case there is no information on the required number of lines, you are allowed to add any number of lines of code.\n",
        "\n",
        "The following question covers a dataset for house cost and linear models in python. The categorical variables and rows with missing variables are removed to make it easier to run the models."
      ]
    },
    {
      "cell_type": "markdown",
      "metadata": {
        "id": "1czNb0Af_Sq7"
      },
      "source": [
        "NOTE\n",
        "* Only use the following code block if you are using Google Colab. If you are using Jupyter Notebook, please ignore this code block. You can directly upload the file to your Jupyter Notebook file systems.\n",
        "* It will prompt you to select a local file. Click on “Choose Files” then select and upload the file. Wait for the file to be 100% uploaded. You should see the name of the file once Colab has uploaded it."
      ]
    },
    {
      "cell_type": "code",
      "execution_count": null,
      "metadata": {
        "id": "4DFbc3eQ_Sq7"
      },
      "outputs": [],
      "source": [
        "from google.colab import files\n",
        "uploaded = files.upload()"
      ]
    },
    {
      "cell_type": "markdown",
      "metadata": {
        "id": "1IcJhy4H_Sq7"
      },
      "source": [
        "Imports required"
      ]
    },
    {
      "cell_type": "code",
      "execution_count": null,
      "metadata": {
        "id": "NZn_O51F_Sq7"
      },
      "outputs": [],
      "source": [
        "from sklearn import linear_model\n",
        "from sklearn.metrics import mean_squared_error\n",
        "from sklearn.model_selection import train_test_split, KFold\n",
        "from sklearn.preprocessing import StandardScaler\n",
        "from sklearn import preprocessing\n",
        "from sklearn.metrics import r2_score\n",
        "import numpy as np\n",
        "import pandas as pd\n",
        "import matplotlib.pyplot as plt\n",
        "\n",
        "%matplotlib inline\n",
        "pd.options.mode.chained_assignment = None\n",
        "\n",
        "df = pd.read_csv('house_cost_data.csv')\n",
        "X = df.drop(['house_cost'],axis=1)\n",
        "Y = df['house_cost']"
      ]
    },
    {
      "cell_type": "code",
      "execution_count": null,
      "metadata": {
        "id": "FILM9myp_Sq7"
      },
      "outputs": [],
      "source": [
        "# Show you all the columns in this file\n",
        "df.columns"
      ]
    },
    {
      "cell_type": "code",
      "execution_count": null,
      "metadata": {
        "id": "SqPC-qCg_Sq7"
      },
      "outputs": [],
      "source": [
        "# Show you the first 5 rows in this file\n",
        "df.head()"
      ]
    },
    {
      "cell_type": "markdown",
      "metadata": {
        "id": "gIimy8SU_Sq7"
      },
      "source": [
        "## Part-1: (2 pts)"
      ]
    },
    {
      "cell_type": "markdown",
      "metadata": {
        "id": "UMrr_lch_Sq7"
      },
      "source": [
        "Split the data into a training set (75% of data) and a test set (25% of data), using the train_test_split function with random_state = 50."
      ]
    },
    {
      "cell_type": "code",
      "execution_count": null,
      "metadata": {
        "id": "U8StdUNc_Sq7"
      },
      "outputs": [],
      "source": [
        "##  START CODE  ## (1 line of code)\n",
        "X_train, X_test, y_train, y_test = None, None, None, None\n",
        "##  END CODE    ##"
      ]
    },
    {
      "cell_type": "markdown",
      "metadata": {
        "id": "HFqzxDg4_Sq7"
      },
      "source": [
        "Scale the data (not including target) so that each of the independent variables would have zero mean and unit variance. You can use the sklearn.preprocessing.scale function for this."
      ]
    },
    {
      "cell_type": "code",
      "execution_count": null,
      "metadata": {
        "id": "ZKV-VEF9_Sq7"
      },
      "outputs": [],
      "source": [
        "##  START CODE  ## (2 lines of code)\n",
        "Xscaled_train = None\n",
        "Xscaled_test = None\n",
        "##  END CODE    ##\n",
        "\n",
        "y_train = y_train.to_numpy()\n",
        "y_test = y_test.to_numpy()"
      ]
    },
    {
      "cell_type": "markdown",
      "metadata": {
        "id": "A8YlDQpk_Sq8"
      },
      "source": [
        "Print the first 5 rows of the training set after scaling"
      ]
    },
    {
      "cell_type": "code",
      "execution_count": null,
      "metadata": {
        "id": "wQk3-_lW_Sq8"
      },
      "outputs": [],
      "source": [
        "##  START CODE  ##\n",
        "\n",
        "##  END CODE    ##"
      ]
    },
    {
      "cell_type": "markdown",
      "metadata": {
        "id": "EEOkDhNR_Sq8"
      },
      "source": [
        "Select any two variables. See how their histograms and scatterplots compare before and after scaling."
      ]
    },
    {
      "cell_type": "code",
      "execution_count": null,
      "metadata": {
        "id": "wzrpe_HV_Sq8"
      },
      "outputs": [],
      "source": [
        "##  START CODE  ##\n",
        "\n",
        "##  END CODE    ##"
      ]
    },
    {
      "cell_type": "markdown",
      "metadata": {
        "id": "6noxQ5A-_Sq8"
      },
      "source": [
        "## Part-2: (5 pts)"
      ]
    },
    {
      "cell_type": "markdown",
      "metadata": {
        "id": "2oLGw_ny_Sq8"
      },
      "source": [
        "Use `sklearn.linear_model.Lasso` and `sklearn.linear_model.Ridge` classes to do a 5-fold cross validation using sklearn's `KFold`. For the sweep of the regularization parameter, we will look at a grid of values ranging from  $\\alpha=10^{-6}$  to  $\\alpha=10^{6}$.In Python, you can consider this range of values as follows: `alpha = 10**numpy.linspace(-6, 6, 100)` so that you can generate 100 uniform values between -6 to 6 as power series."
      ]
    },
    {
      "cell_type": "markdown",
      "metadata": {
        "id": "hbxsWgOD_Sq8"
      },
      "source": [
        "Fit the 2 regression models (Lasso and Ridge) with scaled data and report the best chosen $\\alpha$ based on cross validation as well as the corresponding scoring metric. The cross validation should happen on your training data using MSE as the scoring metric."
      ]
    },
    {
      "cell_type": "code",
      "source": [
        "# Define number of folds\n",
        "##  START CODE  ## (1 line of code)\n",
        "n_folds = None\n",
        "##  END CODE  ##\n"
      ],
      "metadata": {
        "id": "4Tazu6fg_Sq8"
      },
      "execution_count": null,
      "outputs": []
    },
    {
      "cell_type": "code",
      "source": [
        "# Create KFold from sklearn\n",
        "##  START CODE  ## (1 line of code)\n",
        "k_fold = None\n",
        "##  END CODE    ##\n"
      ],
      "metadata": {
        "id": "qbNiaMC7_Sq8"
      },
      "execution_count": null,
      "outputs": []
    },
    {
      "cell_type": "code",
      "execution_count": null,
      "metadata": {
        "id": "WPntvRqS_Sq8"
      },
      "outputs": [],
      "source": [
        "#Define the alphas as defined in the question\n",
        "##  START CODE  ## (1 line of code)\n",
        "alphas = None\n",
        "##  END CODE    ##\n",
        "\n",
        "lasso_avg_mse = {}\n",
        "ridge_avg_mse = {}"
      ]
    },
    {
      "cell_type": "code",
      "source": [
        "#For each value of alpha and each fold compute the mean square error\n",
        "#---------NOTE: This might take a while to run, so please be patient---------------#\n",
        "#---------NOTE: There will be some convergence warning for smaller alphas, but you can ignore it---------------#\n",
        "\n",
        "for alpha in alphas:\n",
        "\n",
        "  #Instantiate a lasso model with the current alpha\n",
        "  ##  START CODE  ## (1 line of code)\n",
        "  ##  END CODE    ##\n",
        "\n",
        "  avg_mse = 0\n",
        "  for k, (train, test) in enumerate(k_fold.split(Xscaled_train, y_train)):\n",
        "\n",
        "    #Fit the scaled training data to the lasso model\n",
        "    ## START CODE ## (1 line of code)\n",
        "    ## END CODE ##\n",
        "\n",
        "    #Calculate the average mean sqaured error\n",
        "    ##  START CODE  ## (1 line of code)\n",
        "    ##  END CODE    ##\n",
        "\n",
        "  # Take the average mean squared error as metric\n",
        "  lasso_avg_mse[alpha] = avg_mse / n_folds"
      ],
      "metadata": {
        "id": "uv1d2W7__Sq8"
      },
      "execution_count": null,
      "outputs": []
    },
    {
      "cell_type": "code",
      "source": [
        "# Find the best value for alpha with minimum mean squared error\n",
        "##  START CODE  ## (1 line of code)\n",
        "best_alpha_lasso = None\n",
        "##  END CODE    ##\n",
        "\n",
        "print(\"Best lasso alpha: {}\".format(best_alpha_lasso))"
      ],
      "metadata": {
        "id": "bInHLoev_Sq8"
      },
      "execution_count": null,
      "outputs": []
    },
    {
      "cell_type": "code",
      "source": [
        "#For each value of alpha and each fold compute the mean square error\n",
        "for alpha in alphas:\n",
        "\n",
        "  #Instantiate a ridge model with the current alpha\n",
        "  ##  START CODE  ## (1 line of code)\n",
        "  ##  END CODE    ##\n",
        "\n",
        "  avg_mse = 0\n",
        "\n",
        "  for k, (train, test) in enumerate(k_fold.split(Xscaled_train, y_train)):\n",
        "\n",
        "    #Fit the scaled training data to the ridge model\n",
        "    ## START CODE ## (1 line of code)\n",
        "    ## END CODE ##\n",
        "\n",
        "    #Calculate the average mean sqaured error\n",
        "    ##  START CODE  ## (1 line of code)\n",
        "    ##  END CODE    ##\n",
        "\n",
        "  # Take the average mean squared error as metric\n",
        "  ridge_avg_mse[alpha] = avg_mse / n_folds"
      ],
      "metadata": {
        "id": "jlOGW1k3_Sq8"
      },
      "execution_count": null,
      "outputs": []
    },
    {
      "cell_type": "code",
      "source": [
        "# Find the best value for alpha with minimum mean squared error\n",
        "##  START CODE  ## (1 line of code)\n",
        "##  END CODE    ##\n",
        "\n",
        "print(\"Best Ridge alpha: {}\".format(best_alpha_ridge))"
      ],
      "metadata": {
        "id": "w_xxIJU6_Sq8"
      },
      "execution_count": null,
      "outputs": []
    },
    {
      "cell_type": "markdown",
      "metadata": {
        "id": "bFUNk9A6_Sq8"
      },
      "source": [
        "## Part-3: (7 pts)"
      ]
    },
    {
      "cell_type": "markdown",
      "metadata": {
        "id": "ssi9Qtbe_Sq8"
      },
      "source": [
        "Run ridge and lasso regression for all of the $\\alpha$ specified above (on training data), and plot the coefficients learned for each of them - there should be one plot each for lasso and ridge, so a total of two plots; different features' weights of each model should be on the same plot with different colors."
      ]
    },
    {
      "cell_type": "code",
      "execution_count": null,
      "metadata": {
        "id": "lovtr1SJ_Sq8"
      },
      "outputs": [],
      "source": [
        "# Lasso Regression\n",
        "\n",
        "alphas = 10**np.linspace(6,-6,100)\n",
        "\n",
        "lasso = linear_model.Lasso(alpha=alpha)\n",
        "coefs = []\n",
        "\n",
        "for a in alphas:\n",
        "  #Specify current alpha as parameter for the lasso model\n",
        "  ## START CODE ## (1 line of code)\n",
        "  ## END CODE ##\n",
        "\n",
        "  #Fit the training data to the lasso model\n",
        "  ## START CODE ## (1 line of code)\n",
        "  ## END CODE ##\n",
        "\n",
        "  #Store learned coefficients in the coef variable\n",
        "  ## START CODE ## (1 line of code)\n",
        "  ## END CODE ##"
      ]
    },
    {
      "cell_type": "code",
      "source": [
        "# Write the code to make the plot for coefficients learned from lasso\n",
        "## START CODE ##\n",
        "## END CODE ##"
      ],
      "metadata": {
        "id": "5l_BnERF_Sq9"
      },
      "execution_count": null,
      "outputs": []
    },
    {
      "cell_type": "code",
      "source": [
        "# Ridge Regression\n",
        "\n",
        "alphas = 10**np.linspace(6,-6,100)\n",
        "\n",
        "ridge = linear_model.Ridge(alpha=alpha)\n",
        "coefs = []\n",
        "\n",
        "for a in alphas:\n",
        "  #Specify current alpha as parameter for the lasso model\n",
        "  ## START CODE ## (1 line of code)\n",
        "  ## END CODE ##\n",
        "\n",
        "  #Fit the training data to the lasso model\n",
        "  ## START CODE ## (1 line of code)\n",
        "  ## END CODE ##\n",
        "\n",
        "  #Store learned coefficients in the coef variable\n",
        "  ## START CODE ## (1 line of code)\n",
        "  ## END CODE ##"
      ],
      "metadata": {
        "id": "4cF307nk_Sq9"
      },
      "execution_count": null,
      "outputs": []
    },
    {
      "cell_type": "code",
      "source": [
        "# Write the code to make the plot for coefficients learned from ridge\n",
        "## START CODE ##\n",
        "## END CODE ##"
      ],
      "metadata": {
        "id": "Ry9Saf7N_Sq9"
      },
      "execution_count": null,
      "outputs": []
    },
    {
      "cell_type": "markdown",
      "metadata": {
        "id": "4sn0D3sv_Sq9"
      },
      "source": [
        "What do you qualitatively observe when the value of the regularization parameter changes?"
      ]
    },
    {
      "cell_type": "markdown",
      "metadata": {
        "id": "RUdPgPNZ_Sq9"
      },
      "source": [
        "# Answer #"
      ]
    },
    {
      "cell_type": "markdown",
      "metadata": {
        "id": "BmbZsoa1_Sq9"
      },
      "source": [
        "## Part-4: (5 pts)"
      ]
    },
    {
      "cell_type": "markdown",
      "metadata": {
        "id": "Dr7z1AK6_Sq9"
      },
      "source": [
        "Similarly, use `sklearn.linear_model.ElasticNet` to do linear regression with different $\\alpha$ values, and plot the coefficients learned for each of them"
      ]
    },
    {
      "cell_type": "code",
      "execution_count": null,
      "metadata": {
        "id": "mMEPglY3_Sq9"
      },
      "outputs": [],
      "source": [
        "# Ridge Regression\n",
        "\n",
        "alphas = 10**np.linspace(6,-6,100)\n",
        "\n",
        "ElastNet = linear_model.ElasticNet(alpha=alpha)\n",
        "coefs = []\n",
        "\n",
        "for a in alphas:\n",
        "  #Specify current alpha as parameter for the lasso model\n",
        "  ## START CODE ## (1 line of code)\n",
        "  ## END CODE ##\n",
        "\n",
        "  #Fit the training data to the lasso model\n",
        "  ## START CODE ## (1 line of code)\n",
        "  ## END CODE ##\n",
        "\n",
        "  #Store learned coefficients in the coef variable\n",
        "  ## START CODE ## (1 line of code)\n",
        "  ## END CODE ##"
      ]
    },
    {
      "cell_type": "code",
      "source": [
        "# Write the code to make the plot for coefficients learned from ElasticNet\n",
        "## START CODE ##\n",
        "## END CODE ##"
      ],
      "metadata": {
        "id": "pn_eUT5F_Sq9"
      },
      "execution_count": null,
      "outputs": []
    },
    {
      "cell_type": "markdown",
      "metadata": {
        "id": "ihxypydo_Sq9"
      },
      "source": [
        "Observe the plot, then explain the pros and cons of ridge, lasso and Elastic Net models."
      ]
    },
    {
      "cell_type": "markdown",
      "metadata": {
        "id": "0OWw4bT7_Sq9"
      },
      "source": [
        "# Answer #\n",
        "\n",
        "\n",
        "\n",
        "\n",
        "\n"
      ]
    },
    {
      "cell_type": "markdown",
      "metadata": {
        "id": "81CJfuES_Sq9"
      },
      "source": [
        "## Part-5: (10 pts)"
      ]
    },
    {
      "cell_type": "markdown",
      "source": [
        "Run the following three regression models with MSE loss on the training data:\n",
        "\n",
        "(a) linear regression without regularization\n",
        "\n",
        "(b) linear regression with ridge regularization\n",
        "\n",
        "(c) linear regression with lasso regularization"
      ],
      "metadata": {
        "id": "B0dyOpUr_Sq9"
      }
    },
    {
      "cell_type": "markdown",
      "source": [
        "\n",
        "For part (b) and (c), use only the best regularization parameters. Report the MSE and R2 on the test data for each of the models."
      ],
      "metadata": {
        "id": "EPqMhn_V_Sq9"
      }
    },
    {
      "cell_type": "code",
      "source": [
        "## START CODE ##\n",
        "\n",
        "## END CODE ##"
      ],
      "metadata": {
        "id": "H6XaDeG9_Sq9"
      },
      "execution_count": null,
      "outputs": []
    },
    {
      "cell_type": "markdown",
      "metadata": {
        "id": "vjJw1R64_Sq9"
      },
      "source": [
        "## Part-6: (3 pts)"
      ]
    },
    {
      "cell_type": "markdown",
      "metadata": {
        "id": "8CDjOwel_Sq9"
      },
      "source": [
        "Train the 3 models and report metrics with the original data without scaling"
      ]
    },
    {
      "cell_type": "code",
      "execution_count": null,
      "metadata": {
        "id": "Z5SMfT9m_Sq-"
      },
      "outputs": [],
      "source": [
        "## START CODE ##\n",
        "\n",
        "## END CODE ##"
      ]
    },
    {
      "cell_type": "markdown",
      "metadata": {
        "id": "v-OWBh7z_Sq-"
      },
      "source": [
        "## Part-7: (3 pts)"
      ]
    },
    {
      "cell_type": "markdown",
      "metadata": {
        "id": "6W8yE17d_Sq-"
      },
      "source": [
        "Why did we have to scale the data in ridge and lasso regression?\n",
        "\n"
      ]
    },
    {
      "cell_type": "markdown",
      "source": [
        "# Answer #"
      ],
      "metadata": {
        "id": "ilbEHxFOVBo8"
      }
    }
  ]
}